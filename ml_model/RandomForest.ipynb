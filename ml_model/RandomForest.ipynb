{
 "cells": [
  {
   "cell_type": "code",
   "execution_count": 40,
   "metadata": {},
   "outputs": [],
   "source": [
    "# Data Processing\n",
    "import pandas as pd\n",
    "import numpy as np\n",
    "\n",
    "# Modelling\n",
    "from sklearn.ensemble import RandomForestClassifier\n",
    "from sklearn.metrics import accuracy_score, confusion_matrix\n",
    "from sklearn.model_selection import RandomizedSearchCV, train_test_split\n",
    "from scipy.stats import randint"
   ]
  },
  {
   "cell_type": "code",
   "execution_count": 41,
   "metadata": {},
   "outputs": [],
   "source": [
    "## Getting data ##\n",
    "learned_data_path = '../processed_EEG_data\\clean_learned_JoshIrby.csv'\n",
    "not_learned_data_path = '../processed_EEG_data\\clean_notLearned_JoshIrby.csv'\n",
    "\n",
    "learned_data = pd.read_csv(learned_data_path)\n",
    "not_learned_data = pd.read_csv(not_learned_data_path)"
   ]
  },
  {
   "cell_type": "code",
   "execution_count": 50,
   "metadata": {},
   "outputs": [
    {
     "name": "stdout",
     "output_type": "stream",
     "text": [
      "original learned shape: (140, 2456)\n",
      "original not_learned shape: (20, 2456)\n",
      "new learned shape: (20, 2456)\n",
      "new not_learned shape: (20, 2456)\n"
     ]
    }
   ],
   "source": [
    "# checking how much data for each category\n",
    "print(f\"original learned shape: {learned_data.shape}\")\n",
    "print(f\"original not_learned shape: {not_learned_data.shape}\")\n",
    "\n",
    "# make them equal to remove bias\n",
    "learned_data = learned_data.sample(frac=1, random_state=42).reset_index(drop=True)\n",
    "not_learned_data = not_learned_data.sample(frac=1, random_state=42).reset_index(drop=True)\n",
    "\n",
    "# get length \n",
    "learned_length = learned_data.shape[0]\n",
    "not_learned_length = not_learned_data.shape[0]\n",
    "\n",
    "new_learned_data = learned_data.drop(index=range(not_learned_length, learned_length))\n",
    "new_not_learned_data = not_learned_data.drop(index=range(learned_length, not_learned_length))\n",
    "\n",
    "# print results\n",
    "print(f\"new learned shape: {new_learned_data.shape}\")\n",
    "print(f\"new not_learned shape: {not_learned_data.shape}\")"
   ]
  },
  {
   "cell_type": "code",
   "execution_count": null,
   "metadata": {},
   "outputs": [
    {
     "name": "stdout",
     "output_type": "stream",
     "text": [
      "new learned shape: (20, 2456)\n",
      "new not_learned shape: (20, 2456)\n"
     ]
    }
   ],
   "source": [
    "# convert pd to a np array for the feature matrix X\n",
    "X_learned = new_learned_data.values  \n",
    "X_not_learned = not_learned_data.values\n",
    "\n",
    "# make the label vector y\n",
    "'''\n",
    "to indicate which epochs go to which condition\n",
    "y vector label should be as long as x matrix is long\n",
    "\n",
    "zeros = learned\n",
    "ones = not learned\n",
    "'''\n",
    "y_learned = np.zeros(X_learned.shape[0])\n",
    "y_not_learned = np.ones(X_not_learned.shape[0])\n",
    "\n",
    "# combine the data and labels\n",
    "# learned + not learned \n",
    "# learned labels + not learned labels\n",
    "X = np.concatenate([X_learned, X_not_learned], axis=0)\n",
    "y = np.concatenate([y_learned, y_not_learned], axis=0)"
   ]
  },
  {
   "cell_type": "code",
   "execution_count": 48,
   "metadata": {},
   "outputs": [
    {
     "name": "stdout",
     "output_type": "stream",
     "text": [
      "Confusion Matrix: \n",
      " [[1 1]\n",
      " [6 0]]\n",
      "Accuracy: 0.125\n"
     ]
    }
   ],
   "source": [
    "## MODEL ##\n",
    "\n",
    "# Split the data into training and test sets\n",
    "X_train, X_test, y_train, y_test = train_test_split(X, y, test_size=0.2)\n",
    "\n",
    "# Training\n",
    "rf = RandomForestClassifier()\n",
    "rf.fit(X_train, y_train)\n",
    "\n",
    "# test it\n",
    "y_pred = rf.predict(X_test)\n",
    "\n",
    "# get the accuracy\n",
    "cm = confusion_matrix(y_test, y_pred)\n",
    "print(\"Confusion Matrix: \\n\", cm)\n",
    "accuracy = accuracy_score(y_test, y_pred)\n",
    "print(\"Accuracy:\", accuracy)"
   ]
  }
 ],
 "metadata": {
  "kernelspec": {
   "display_name": "Python 3",
   "language": "python",
   "name": "python3"
  },
  "language_info": {
   "codemirror_mode": {
    "name": "ipython",
    "version": 3
   },
   "file_extension": ".py",
   "mimetype": "text/x-python",
   "name": "python",
   "nbconvert_exporter": "python",
   "pygments_lexer": "ipython3",
   "version": "3.11.9"
  }
 },
 "nbformat": 4,
 "nbformat_minor": 2
}
