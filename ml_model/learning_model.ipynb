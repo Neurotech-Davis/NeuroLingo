{
 "cells": [
  {
   "cell_type": "markdown",
   "metadata": {},
   "source": [
    "Tutorial"
   ]
  },
  {
   "cell_type": "code",
   "execution_count": 1,
   "metadata": {},
   "outputs": [],
   "source": [
    "# load in libraries\n",
    "import numpy as np\n",
    "import pandas as pd\n",
    "from sklearn import datasets\n",
    "from sklearn.model_selection import train_test_split\n",
    "from sklearn.svm import SVC\n",
    "from sklearn.metrics import confusion_matrix, accuracy_score"
   ]
  },
  {
   "cell_type": "code",
   "execution_count": null,
   "metadata": {},
   "outputs": [
    {
     "name": "stdout",
     "output_type": "stream",
     "text": [
      "Confusion Matrix: \n",
      " [[16  0  0]\n",
      " [ 0 13  5]\n",
      " [ 0  4  7]]\n",
      "Accuracy:  0.8\n"
     ]
    }
   ],
   "source": [
    "# practice data of flowers, 2 species and 50 samples each\n",
    "iris = datasets.load_iris()\n",
    "X = iris.data[:, :2]\n",
    "y = iris.target\n",
    "\n",
    "# split into training and test data\n",
    "X_train, X_test, y_train, y_test = train_test_split(X, y, test_size=0.3, random_state=0)\n",
    "\n",
    "# sets 30% for test and 70% for training\n",
    "\n",
    "model = SVC(kernel='rbf') #from SVM scikit-learn library, uses radial basis function\n",
    "\n",
    "# train the data using fit\n",
    "model.fit(X_train, y_train)\n",
    "\n",
    "# make predictions based on the testing data from before\n",
    "y_pred = model.predict(X_test)\n",
    "\n",
    "# evauluate the performance of the SVM model by caclulating confusino matrix\n",
    "# and the accuracy score\n",
    "cm = confusion_matrix(y_test, y_pred)\n",
    "print(\"Confusion Matrix: \\n\", cm)\n",
    "accuracy = accuracy_score(y_test, y_pred)\n",
    "print(\"Accuracy: \", accuracy)"
   ]
  },
  {
   "cell_type": "markdown",
   "metadata": {},
   "source": [
    "Create dummy data"
   ]
  },
  {
   "cell_type": "code",
   "execution_count": 9,
   "metadata": {},
   "outputs": [],
   "source": [
    "# load in libraries\n",
    "import numpy as np\n",
    "from sklearn.svm import SVC\n",
    "from sklearn.model_selection import train_test_split"
   ]
  },
  {
   "cell_type": "code",
   "execution_count": null,
   "metadata": {},
   "outputs": [],
   "source": [
    "### Creating dummy data ###\n",
    "# Parameters\n",
    "fs = 255             # Sampling frequency in Hz\n",
    "n_points = fs        # 1 second of data\n",
    "n_samples_per_class = 100\n",
    "\n",
    "# Time vector (not used for SVM but useful for plotting)\n",
    "t = np.linspace(0, 1, n_points, endpoint=False)\n",
    "\n",
    "def generate_eeg(class_label, n_samples):\n",
    "    data = []\n",
    "    labels = []\n",
    "    for _ in range(n_samples):\n",
    "        # Start with baseline noise\n",
    "        eeg = np.random.normal(0, 1, n_points)\n",
    "        if class_label == 'learned':\n",
    "            # Simulate a negative deflection (N400-like) around 400 ms (samples 100 to 110)\n",
    "            eeg[100:110] += -5  \n",
    "        data.append(eeg)\n",
    "        labels.append(class_label)\n",
    "    return np.array(data), np.array(labels)\n",
    "\n",
    "# Generate dummy EEG data for both classes\n",
    "X_learned, y_learned = generate_eeg('learned', n_samples_per_class)\n",
    "X_not_learned, y_not_learned = generate_eeg('not_learned', n_samples_per_class)\n"
   ]
  },
  {
   "cell_type": "code",
   "execution_count": 16,
   "metadata": {},
   "outputs": [
    {
     "name": "stdout",
     "output_type": "stream",
     "text": [
      "Confusion Matrix: \n",
      " [[31  0]\n",
      " [ 0 29]]\n",
      "Accuracy:  1.0\n"
     ]
    }
   ],
   "source": [
    "# combine and shuffle data to avoid svm learning from temporal patterns\n",
    "X = np.concatenate((X_learned, X_not_learned), axis=0)\n",
    "y = np.concatenate((y_learned, y_not_learned), axis=0)\n",
    "indices = np.random.permutation(len(y))\n",
    "X, y = X[indices], y[indices]\n",
    "\n",
    "# split into training and test\n",
    "X_train, X_test, y_train, y_test = train_test_split(X, y, test_size=0.3, random_state=0)\n",
    "\n",
    "# kernel trick\n",
    "model = SVC(kernel='rbf') #from SVM scikit-learn library, uses radial basis function\n",
    "\n",
    "# train model\n",
    "model.fit(X_train, y_train)\n",
    "\n",
    "# make predictions\n",
    "y_pred = model.predict(X_test)\n",
    "\n",
    "# evauluate the performance of the SVM model by caclulating confusino matrix\n",
    "# and the accuracy score\n",
    "cm = confusion_matrix(y_test, y_pred)\n",
    "print(\"Confusion Matrix: \\n\", cm)\n",
    "accuracy = accuracy_score(y_test, y_pred)\n",
    "print(\"Accuracy: \", accuracy)"
   ]
  },
  {
   "cell_type": "markdown",
   "metadata": {},
   "source": [
    "Try with real data"
   ]
  }
 ],
 "metadata": {
  "kernelspec": {
   "display_name": "Python 3",
   "language": "python",
   "name": "python3"
  },
  "language_info": {
   "codemirror_mode": {
    "name": "ipython",
    "version": 3
   },
   "file_extension": ".py",
   "mimetype": "text/x-python",
   "name": "python",
   "nbconvert_exporter": "python",
   "pygments_lexer": "ipython3",
   "version": "3.11.9"
  }
 },
 "nbformat": 4,
 "nbformat_minor": 2
}
