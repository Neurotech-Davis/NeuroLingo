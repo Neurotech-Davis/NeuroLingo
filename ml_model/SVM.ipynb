{
 "cells": [
  {
   "cell_type": "code",
   "execution_count": 3,
   "metadata": {},
   "outputs": [],
   "source": [
    "# load in libraries\n",
    "import numpy as np\n",
    "import pandas as pd\n",
    "from sklearn import datasets\n",
    "from sklearn.model_selection import train_test_split\n",
    "from sklearn.svm import SVC\n",
    "from sklearn.metrics import confusion_matrix, accuracy_score"
   ]
  },
  {
   "cell_type": "markdown",
   "metadata": {},
   "source": [
    "Load in data"
   ]
  },
  {
   "cell_type": "code",
   "execution_count": 1,
   "metadata": {},
   "outputs": [
    {
     "ename": "NameError",
     "evalue": "name 'pd' is not defined",
     "output_type": "error",
     "traceback": [
      "\u001b[1;31m---------------------------------------------------------------------------\u001b[0m",
      "\u001b[1;31mNameError\u001b[0m                                 Traceback (most recent call last)",
      "Cell \u001b[1;32mIn[1], line 4\u001b[0m\n\u001b[0;32m      1\u001b[0m learned_data_path \u001b[38;5;241m=\u001b[39m \u001b[38;5;124m'\u001b[39m\u001b[38;5;124m../processed_EEG_data\u001b[39m\u001b[38;5;124m\\\u001b[39m\u001b[38;5;124mclean_learned_2025-02-23_14-24-48_1.csv\u001b[39m\u001b[38;5;124m'\u001b[39m\n\u001b[0;32m      2\u001b[0m not_learned_data_path \u001b[38;5;241m=\u001b[39m \u001b[38;5;124m'\u001b[39m\u001b[38;5;124m../processed_EEG_data\u001b[39m\u001b[38;5;124m\\\u001b[39m\u001b[38;5;124mclean_notLearned_2025-02-23_14-24-48_1.csv\u001b[39m\u001b[38;5;124m'\u001b[39m\n\u001b[1;32m----> 4\u001b[0m learned_data \u001b[38;5;241m=\u001b[39m \u001b[43mpd\u001b[49m\u001b[38;5;241m.\u001b[39mread_csv(learned_data_path)\n\u001b[0;32m      5\u001b[0m not_learned_data \u001b[38;5;241m=\u001b[39m pd\u001b[38;5;241m.\u001b[39mread_csv(not_learned_data_path)\n",
      "\u001b[1;31mNameError\u001b[0m: name 'pd' is not defined"
     ]
    }
   ],
   "source": [
    "learned_data_path = '../processed_EEG_data\\clean_learned_2025-02-23_14-24-48_1.csv'\n",
    "not_learned_data_path = '../processed_EEG_data\\clean_notLearned_2025-02-23_14-24-48_1.csv'\n",
    "\n",
    "learned_data = pd.read_csv(learned_data_path)\n",
    "not_learned_data = pd.read_csv(not_learned_data_path)"
   ]
  },
  {
   "cell_type": "markdown",
   "metadata": {},
   "source": [
    "Model\n"
   ]
  },
  {
   "cell_type": "code",
   "execution_count": null,
   "metadata": {},
   "outputs": [
    {
     "name": "stdout",
     "output_type": "stream",
     "text": [
      "Confusion Matrix: \n",
      " [[27  0]\n",
      " [ 2  0]]\n",
      "Accuracy:  0.9310344827586207\n"
     ]
    }
   ],
   "source": [
    "# convert pd to a np array for the feature matrix X\n",
    "X_learned = learned_data.values  \n",
    "X_not_learned = not_learned_data.values\n",
    "\n",
    "# make the label vector y\n",
    "'''\n",
    "to indicate which epochs go to which condition\n",
    "y vector label should be as long as x matrix is long\n",
    "\n",
    "zeros = learned\n",
    "ones = not learned\n",
    "'''\n",
    "y_learned = np.zeros(X_learned.shape[0])\n",
    "y_not_learned = np.ones(X_not_learned.shape[0])\n",
    "\n",
    "# combine the data and labels\n",
    "# learned + not learned \n",
    "# learned labels + not learned labels\n",
    "X = np.concatenate([X_learned, X_not_learned], axis=0)\n",
    "y = np.concatenate([y_learned, y_not_learned], axis=0)\n",
    "\n",
    "# split into training and test data\n",
    "test_size_n = 0.5   # sets this percentage aside for testing\n",
    "X_train, X_test, y_train, y_test = train_test_split(X, y, test_size=test_size_n, random_state=0)\n",
    "\n",
    "model = SVC(kernel='rbf') #from SVM scikit-learn library, uses radial basis function\n",
    "\n",
    "# train the data using fit\n",
    "model.fit(X_train, y_train)\n",
    "\n",
    "# make predictions based on the testing data from before\n",
    "y_pred = model.predict(X_test)\n",
    "\n",
    "# evauluate the performance of the SVM model by caclulating confusino matrix\n",
    "# and the accuracy score\n",
    "cm = confusion_matrix(y_test, y_pred)\n",
    "print(\"Confusion Matrix: \\n\", cm)\n",
    "accuracy = accuracy_score(y_test, y_pred)\n",
    "print(\"Accuracy: \", accuracy)"
   ]
  }
 ],
 "metadata": {
  "kernelspec": {
   "display_name": "Python 3",
   "language": "python",
   "name": "python3"
  },
  "language_info": {
   "codemirror_mode": {
    "name": "ipython",
    "version": 3
   },
   "file_extension": ".py",
   "mimetype": "text/x-python",
   "name": "python",
   "nbconvert_exporter": "python",
   "pygments_lexer": "ipython3",
   "version": "3.11.9"
  }
 },
 "nbformat": 4,
 "nbformat_minor": 2
}
