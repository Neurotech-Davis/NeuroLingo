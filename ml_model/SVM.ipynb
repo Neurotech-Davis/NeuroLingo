{
 "cells": [
  {
   "cell_type": "code",
   "execution_count": 3,
   "metadata": {},
   "outputs": [],
   "source": [
    "# load in libraries\n",
    "import numpy as np\n",
    "import pandas as pd\n",
    "from sklearn import datasets\n",
    "from sklearn.model_selection import train_test_split\n",
    "from sklearn.svm import SVC\n",
    "from sklearn.metrics import confusion_matrix, accuracy_score"
   ]
  },
  {
   "cell_type": "markdown",
   "metadata": {},
   "source": [
    "Load in data"
   ]
  },
  {
   "cell_type": "code",
   "execution_count": 4,
   "metadata": {},
   "outputs": [],
   "source": [
    "learned_data_path = '../processed_EEG_data\\clean_learned_JoshIrby.csv'\n",
    "not_learned_data_path = '../processed_EEG_data\\clean_notLearned_JoshIrby.csv'\n",
    "\n",
    "learned_data = pd.read_csv(learned_data_path)\n",
    "not_learned_data = pd.read_csv(not_learned_data_path)"
   ]
  },
  {
   "cell_type": "markdown",
   "metadata": {},
   "source": [
    "Model\n"
   ]
  },
  {
   "cell_type": "code",
   "execution_count": 5,
   "metadata": {},
   "outputs": [
    {
     "name": "stdout",
     "output_type": "stream",
     "text": [
      "original learned shape: (959, 1232)\n",
      "original not_learned shape: (222, 1232)\n",
      "new learned shape: (222, 1232)\n",
      "learned shape: (959, 1232)\n",
      "new not_learned shape: (222, 1232)\n"
     ]
    }
   ],
   "source": [
    "# checking how much data for each category\n",
    "print(f\"original learned shape: {learned_data.shape}\")\n",
    "print(f\"original not_learned shape: {not_learned_data.shape}\")\n",
    "\n",
    "# make them equal to remove bias\n",
    "learned_data = learned_data.sample(frac=1, random_state=42).reset_index(drop=True)\n",
    "not_learned_data = not_learned_data.sample(frac=1, random_state=42).reset_index(drop=True)\n",
    "\n",
    "# get length \n",
    "learned_length = learned_data.shape[0]\n",
    "not_learned_length = not_learned_data.shape[0]\n",
    "\n",
    "new_learned_data = learned_data.drop(index=range(not_learned_length, learned_length))\n",
    "\n",
    "print(f\"new learned shape: {new_learned_data.shape}\")\n",
    "print(f\"learned shape: {learned_data.shape}\")\n",
    "print(f\"new not_learned shape: {not_learned_data.shape}\")"
   ]
  },
  {
   "cell_type": "code",
   "execution_count": 7,
   "metadata": {},
   "outputs": [
    {
     "name": "stdout",
     "output_type": "stream",
     "text": [
      "new learned shape: (222, 1232)\n",
      "new not_learned shape: (222, 1232)\n",
      "Confusion Matrix: \n",
      " [[36  7]\n",
      " [22 24]]\n",
      "Accuracy:  0.6741573033707865\n"
     ]
    }
   ],
   "source": [
    "# checking if last line had an impact\n",
    "print(f\"new learned shape: {new_learned_data.shape}\")\n",
    "print(f\"new not_learned shape: {not_learned_data.shape}\")\n",
    "\n",
    "# convert pd to a np array for the feature matrix X\n",
    "X_learned = new_learned_data.values  \n",
    "X_not_learned = not_learned_data.values\n",
    "\n",
    "# make the label vector y\n",
    "'''\n",
    "to indicate which epochs go to which condition\n",
    "y vector label should be as long as x matrix is long\n",
    "\n",
    "zeros = learned\n",
    "ones = not learned\n",
    "'''\n",
    "y_learned = np.zeros(X_learned.shape[0])\n",
    "y_not_learned = np.ones(X_not_learned.shape[0])\n",
    "\n",
    "# combine the data and labels\n",
    "# learned + not learned \n",
    "# learned labels + not learned labels\n",
    "X = np.concatenate([X_learned, X_not_learned], axis=0)\n",
    "y = np.concatenate([y_learned, y_not_learned], axis=0)\n",
    "\n",
    "# split into training and test data\n",
    "test_size_n = 0.2   # sets this percentage aside for testing\n",
    "X_train, X_test, y_train, y_test = train_test_split(X, y, test_size=test_size_n, random_state=0)\n",
    "\n",
    "model = SVC(kernel='rbf')\n",
    "#from SVM scikit-learn library, uses radial basis function\n",
    "# use balanced to account for the bias in data, class_weight='balanced'\n",
    "# without this it counts EVERYTHING as positive\n",
    "\n",
    "# kernel options: linear, rbf, poly, \n",
    "\n",
    "\n",
    "# train the data using fit\n",
    "model.fit(X_train, y_train)\n",
    "\n",
    "# make predictions based on the testing data from before\n",
    "y_pred = model.predict(X_test)\n",
    "\n",
    "# evauluate the performance of the SVM model by caclulating confusino matrix\n",
    "# and the accuracy score\n",
    "cm = confusion_matrix(y_test, y_pred)\n",
    "print(\"Confusion Matrix: \\n\", cm)\n",
    "accuracy = accuracy_score(y_test, y_pred)\n",
    "print(\"Accuracy: \", accuracy)"
   ]
  }
 ],
 "metadata": {
  "kernelspec": {
   "display_name": "Python 3",
   "language": "python",
   "name": "python3"
  },
  "language_info": {
   "codemirror_mode": {
    "name": "ipython",
    "version": 3
   },
   "file_extension": ".py",
   "mimetype": "text/x-python",
   "name": "python",
   "nbconvert_exporter": "python",
   "pygments_lexer": "ipython3",
   "version": "3.11.9"
  }
 },
 "nbformat": 4,
 "nbformat_minor": 2
}
