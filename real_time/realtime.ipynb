{
 "cells": [
  {
   "cell_type": "code",
   "execution_count": 8,
   "metadata": {},
   "outputs": [
    {
     "name": "stdout",
     "output_type": "stream",
     "text": [
      "Collecting PyQt6\n",
      "  Downloading PyQt6-6.8.1-cp39-abi3-win_amd64.whl.metadata (2.1 kB)\n",
      "Collecting PyQt6-sip<14,>=13.8 (from PyQt6)\n",
      "  Downloading PyQt6_sip-13.10.0-cp312-cp312-win_amd64.whl.metadata (492 bytes)\n",
      "Collecting PyQt6-Qt6<6.9.0,>=6.8.0 (from PyQt6)\n",
      "  Downloading PyQt6_Qt6-6.8.2-py3-none-win_amd64.whl.metadata (551 bytes)\n",
      "Downloading PyQt6-6.8.1-cp39-abi3-win_amd64.whl (6.7 MB)\n",
      "   ---------------------------------------- 0.0/6.7 MB ? eta -:--:--\n",
      "   -------------------------------- ------- 5.5/6.7 MB 30.5 MB/s eta 0:00:01\n",
      "   ---------------------------------------- 6.7/6.7 MB 29.5 MB/s eta 0:00:00\n",
      "Downloading PyQt6_Qt6-6.8.2-py3-none-win_amd64.whl (71.9 MB)\n",
      "   ---------------------------------------- 0.0/71.9 MB ? eta -:--:--\n",
      "   -- ------------------------------------- 4.5/71.9 MB 24.4 MB/s eta 0:00:03\n",
      "   ------ --------------------------------- 11.0/71.9 MB 26.5 MB/s eta 0:00:03\n",
      "   --------- ------------------------------ 16.5/71.9 MB 26.7 MB/s eta 0:00:03\n",
      "   ------------ --------------------------- 23.1/71.9 MB 27.0 MB/s eta 0:00:02\n",
      "   ---------------- ----------------------- 28.8/71.9 MB 27.3 MB/s eta 0:00:02\n",
      "   ------------------ --------------------- 33.6/71.9 MB 27.0 MB/s eta 0:00:02\n",
      "   -------------------- ------------------- 37.2/71.9 MB 25.4 MB/s eta 0:00:02\n",
      "   ---------------------- ----------------- 40.6/71.9 MB 24.4 MB/s eta 0:00:02\n",
      "   ------------------------- -------------- 45.4/71.9 MB 23.7 MB/s eta 0:00:02\n",
      "   ---------------------------- ----------- 50.9/71.9 MB 24.2 MB/s eta 0:00:01\n",
      "   ------------------------------- -------- 56.9/71.9 MB 24.3 MB/s eta 0:00:01\n",
      "   ---------------------------------- ----- 62.9/71.9 MB 24.8 MB/s eta 0:00:01\n",
      "   -------------------------------------- - 68.9/71.9 MB 25.0 MB/s eta 0:00:01\n",
      "   ---------------------------------------  71.8/71.9 MB 25.2 MB/s eta 0:00:01\n",
      "   ---------------------------------------  71.8/71.9 MB 25.2 MB/s eta 0:00:01\n",
      "   ---------------------------------------- 71.9/71.9 MB 22.5 MB/s eta 0:00:00\n",
      "Downloading PyQt6_sip-13.10.0-cp312-cp312-win_amd64.whl (53 kB)\n",
      "Installing collected packages: PyQt6-Qt6, PyQt6-sip, PyQt6\n"
     ]
    },
    {
     "name": "stderr",
     "output_type": "stream",
     "text": [
      "WARNING: Ignoring invalid distribution ~ip (C:\\Python312\\Lib\\site-packages)\n",
      "WARNING: Ignoring invalid distribution ~ip (C:\\Python312\\Lib\\site-packages)\n",
      "  WARNING: Failed to write executable - trying to use .deleteme logic\n",
      "ERROR: Could not install packages due to an OSError: [WinError 2] The system cannot find the file specified: 'C:\\\\Python312\\\\Scripts\\\\pylupdate6.exe' -> 'C:\\\\Python312\\\\Scripts\\\\pylupdate6.exe.deleteme'\n",
      "\n"
     ]
    },
    {
     "name": "stdout",
     "output_type": "stream",
     "text": [
      "Requirement already satisfied: pyqtgraph in c:\\python312\\lib\\site-packages (0.13.7)\n",
      "Requirement already satisfied: numpy>=1.22.0 in c:\\users\\cheng\\appdata\\roaming\\python\\python312\\site-packages (from pyqtgraph) (2.2.1)\n"
     ]
    },
    {
     "name": "stderr",
     "output_type": "stream",
     "text": [
      "WARNING: Ignoring invalid distribution ~ip (C:\\Python312\\Lib\\site-packages)\n",
      "WARNING: Ignoring invalid distribution ~ip (C:\\Python312\\Lib\\site-packages)\n",
      "WARNING: Ignoring invalid distribution ~ip (C:\\Python312\\Lib\\site-packages)\n"
     ]
    }
   ],
   "source": [
    "# Install\n",
    "#!pip install matplotlib\n",
    "#!pip install pandas\n",
    "#!pip install mne\n",
    "!pip install PyQt6 \n",
    "!pip install pyqtgraph"
   ]
  },
  {
   "cell_type": "code",
   "execution_count": 9,
   "metadata": {},
   "outputs": [],
   "source": [
    "import matplotlib\n",
    "import pandas\n",
    "import mne\n",
    "import PyQt6 # For pyqtgraph\n",
    "import pyqtgraph"
   ]
  },
  {
   "cell_type": "code",
   "execution_count": 11,
   "metadata": {},
   "outputs": [
    {
     "name": "stdout",
     "output_type": "stream",
     "text": [
      "Requirement already satisfied: brainflow in c:\\python312\\lib\\site-packages (5.16.0)\n",
      "Requirement already satisfied: numpy in c:\\users\\cheng\\appdata\\roaming\\python\\python312\\site-packages (from brainflow) (2.2.1)\n",
      "Requirement already satisfied: setuptools in c:\\users\\cheng\\appdata\\roaming\\python\\python312\\site-packages (from brainflow) (75.6.0)\n"
     ]
    },
    {
     "name": "stderr",
     "output_type": "stream",
     "text": [
      "WARNING: Ignoring invalid distribution ~ip (C:\\Python312\\Lib\\site-packages)\n",
      "WARNING: Ignoring invalid distribution ~ip (C:\\Python312\\Lib\\site-packages)\n",
      "WARNING: Ignoring invalid distribution ~ip (C:\\Python312\\Lib\\site-packages)\n"
     ]
    }
   ],
   "source": [
    "!pip install brainflow\n",
    "import brainflow"
   ]
  },
  {
   "cell_type": "code",
   "execution_count": 14,
   "metadata": {},
   "outputs": [],
   "source": [
    "import argparse\n",
    "import time\n",
    "\n",
    "from brainflow.board_shim import BoardShim, BrainFlowInputParams, BoardIds"
   ]
  },
  {
   "cell_type": "markdown",
   "metadata": {},
   "source": [
    "User API\n",
    "BrainFlow User API has three main modules:\n",
    "\n",
    "- BoardShim to read data from a board, it calls methods from underlying BoardController library\n",
    "- DataFilter to perform signal processing, it calls methods from underlying DataHandler library\n",
    "- MLModel to calculate derivative metrics, it calls methods from underlying MLModule library"
   ]
  },
  {
   "cell_type": "code",
   "execution_count": null,
   "metadata": {},
   "outputs": [
    {
     "ename": "BrainFlowError",
     "evalue": "UNABLE_TO_OPEN_PORT_ERROR:2 unable to prepare streaming session",
     "output_type": "error",
     "traceback": [
      "\u001b[1;31m---------------------------------------------------------------------------\u001b[0m",
      "\u001b[1;31mBrainFlowError\u001b[0m                            Traceback (most recent call last)",
      "Cell \u001b[1;32mIn[36], line 55\u001b[0m\n\u001b[0;32m     53\u001b[0m \u001b[38;5;66;03m# set board\u001b[39;00m\n\u001b[0;32m     54\u001b[0m board \u001b[38;5;241m=\u001b[39m BoardShim(args\u001b[38;5;241m.\u001b[39mboard_id, params)\n\u001b[1;32m---> 55\u001b[0m \u001b[43mboard\u001b[49m\u001b[38;5;241;43m.\u001b[39;49m\u001b[43mprepare_session\u001b[49m\u001b[43m(\u001b[49m\u001b[43m)\u001b[49m\n\u001b[0;32m     56\u001b[0m board\u001b[38;5;241m.\u001b[39mstart_stream ()\n\u001b[0;32m     57\u001b[0m time\u001b[38;5;241m.\u001b[39msleep(\u001b[38;5;241m10\u001b[39m)\n",
      "File \u001b[1;32mc:\\Python312\\Lib\\site-packages\\brainflow\\board_shim.py:1191\u001b[0m, in \u001b[0;36mBoardShim.prepare_session\u001b[1;34m(self)\u001b[0m\n\u001b[0;32m   1189\u001b[0m res \u001b[38;5;241m=\u001b[39m BoardControllerDLL\u001b[38;5;241m.\u001b[39mget_instance()\u001b[38;5;241m.\u001b[39mprepare_session(\u001b[38;5;28mself\u001b[39m\u001b[38;5;241m.\u001b[39mboard_id, \u001b[38;5;28mself\u001b[39m\u001b[38;5;241m.\u001b[39minput_json)\n\u001b[0;32m   1190\u001b[0m \u001b[38;5;28;01mif\u001b[39;00m res \u001b[38;5;241m!=\u001b[39m BrainFlowExitCodes\u001b[38;5;241m.\u001b[39mSTATUS_OK\u001b[38;5;241m.\u001b[39mvalue:\n\u001b[1;32m-> 1191\u001b[0m     \u001b[38;5;28;01mraise\u001b[39;00m BrainFlowError(\u001b[38;5;124m'\u001b[39m\u001b[38;5;124munable to prepare streaming session\u001b[39m\u001b[38;5;124m'\u001b[39m, res)\n",
      "\u001b[1;31mBrainFlowError\u001b[0m: UNABLE_TO_OPEN_PORT_ERROR:2 unable to prepare streaming session"
     ]
    }
   ],
   "source": [
    "# Step 1: Use BoardShim to read data from a board\n",
    "\n",
    "# To simulate \"command-line arguments\"\n",
    "import sys\n",
    "\n",
    "# just the required arguments for now.\n",
    "sys.argv = ['realtime.ipynb',  \n",
    "\t\t\t'--board-id', '0',\n",
    "\t\t\t'--serial-port', 'COM9',\n",
    "\t\t\t'--mac-address', '[mac-address]'] \n",
    "\n",
    "# initialize objects\n",
    "BoardShim.enable_dev_board_logger()\n",
    "parser = argparse.ArgumentParser()\n",
    "\n",
    "# set arguments\n",
    "# use docs to check which parameters are required for specific board, e.g. for Cyton - set serial port\n",
    "parser.add_argument('--timeout', type=int, help='timeout for device discovery or connection', required=False, default=0) # 18 for timeout error\t\n",
    "parser.add_argument('--ip-port', type=int, help='ip port', required=False, default=0)\n",
    "parser.add_argument('--ip-protocol', type=int, help='ip protocol, check IpProtocolType enum', required=False,\n",
    "                        default=0)\n",
    "\n",
    "parser.add_argument('--ip-address', type=str, help='ip address', required=False, default='') # For socket connection (I don't think this applies to us)\n",
    "parser.add_argument('--serial-port', type=str, help='serial port', required=False, default='') # For socket connection (I don't think this applies to us)\n",
    "\n",
    "parser.add_argument('--mac-address', type=str, help='mac address', required=False, default='') # This should apply to us; bluetooth based board\n",
    "\n",
    "parser.add_argument('--other-info', type=str, help='other info', required=False, default='') # Extra\n",
    "\n",
    "parser.add_argument('--serial-number', type=str, help='serial number', required=False, default='') # From board\n",
    "parser.add_argument('--board-id', type=int, help='board id, check docs to get a list of supported boards', required=True) # 0 for Cyton board\n",
    "parser.add_argument('--file', type=str, help='file', required=False, default='') # Output file?\n",
    "\n",
    "parser.add_argument('--master-board', type=int, help='master board id for streaming and playback boards', required=False, default=BoardIds.NO_BOARD) # Not sure\n",
    "\n",
    "\n",
    "# parse arguments\n",
    "args = parser.parse_args(sys.argv[1:]) # Excluding the notebook name\n",
    "\n",
    "# set arguments\n",
    "params = BrainFlowInputParams()\n",
    "params.ip_port = args.ip_port\n",
    "params.serial_port = args.serial_port\n",
    "params.mac_address = args.mac_address\n",
    "params.other_info = args.other_info\n",
    "params.serial_number = args.serial_number\n",
    "params.ip_address = args.ip_address\n",
    "params.ip_protocol = args.ip_protocol\n",
    "params.timeout = args.timeout\n",
    "params.file = args.file\n",
    "params.master_board = args.master_board\n",
    "\n",
    "# set board\n",
    "board = BoardShim(args.board_id, params)\n",
    "board.prepare_session()\n",
    "board.start_stream ()\n",
    "time.sleep(10)\n",
    "# data = board.get_current_board_data (256) # get latest 256 packages or less, doesnt remove them from internal buffer\n",
    "data = board.get_board_data()  # get all data and remove it from internal buffer\n",
    "board.stop_stream()\n",
    "board.release_session()"
   ]
  }
 ],
 "metadata": {
  "kernelspec": {
   "display_name": "Python 3",
   "language": "python",
   "name": "python3"
  },
  "language_info": {
   "codemirror_mode": {
    "name": "ipython",
    "version": 3
   },
   "file_extension": ".py",
   "mimetype": "text/x-python",
   "name": "python",
   "nbconvert_exporter": "python",
   "pygments_lexer": "ipython3",
   "version": "3.12.5"
  }
 },
 "nbformat": 4,
 "nbformat_minor": 2
}
